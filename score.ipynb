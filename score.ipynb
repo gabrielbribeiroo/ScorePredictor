{
 "cells": [
  {
   "cell_type": "code",
   "execution_count": null,
   "metadata": {
    "vscode": {
     "languageId": "plaintext"
    }
   },
   "outputs": [],
   "source": [
    "pip install requests pandas"
   ]
  },
  {
   "cell_type": "code",
   "execution_count": null,
   "metadata": {},
   "outputs": [],
   "source": [
    "import requests"
   ]
  },
  {
   "cell_type": "code",
   "execution_count": null,
   "metadata": {},
   "outputs": [],
   "source": [
    "import pandas as pd"
   ]
  },
  {
   "cell_type": "code",
   "execution_count": null,
   "metadata": {},
   "outputs": [],
   "source": [
    "# URL para buscar todos os jogos do Campeonato Paulista 2025\n",
    "url_jogos = 'http://apifutebol.footstats.com.br/3.1/campeonatos/83/jogos'\n",
    "\n",
    "headers = {\n",
    "    \"Authorization\": \"Bearer xpto-bca\"\n",
    "}\n",
    "\n",
    "# Fazendo a requisição para obter todos os jogos do Campeonato Paulista\n",
    "response = requests.get(url_jogos, headers=headers)\n",
    "\n",
    "if response.status_code == 200:\n",
    "    try:\n",
    "        jogos_data = response.json()\n",
    "        print(\"\\n🔎 Resposta da API recebida. Verificando estrutura...\\n\")\n",
    "        print(jogos_data)  # Exibe o JSON completo para depuração\n",
    "\n",
    "        if 'jogos' not in jogos_data:\n",
    "            print(\"\\n❌ A chave 'jogos' não foi encontrada na resposta da API.\")\n",
    "        else:\n",
    "            print(\"\\n✅ A chave 'jogos' foi encontrada! Processando dados...\")\n",
    "\n",
    "        all_data = []\n",
    "\n",
    "        for jogo in jogos_data.get('jogos', []):\n",
    "            match_id = jogo.get('id')\n",
    "            home_team = jogo.get('mandante', {}).get('nome', 'Desconhecido')\n",
    "            away_team = jogo.get('visitante', {}).get('nome', 'Desconhecido')\n",
    "\n",
    "            print(f\"📌 Coletando dados de {home_team} x {away_team} (ID: {match_id})\")\n",
    "\n",
    "            # URL para buscar estatísticas específicas de cada jogo\n",
    "            url_stats = f'http://apifutebol.footstats.com.br/3.1/jogos/{match_id}/estatisticas'\n",
    "            response_stats = requests.get(url_stats, headers=headers)\n",
    "\n",
    "            if response_stats.status_code == 200:\n",
    "                stats_data = response_stats.json()\n",
    "\n",
    "                for match_stats in stats_data.get('estatisticas', []):\n",
    "                    period = match_stats.get('periodo', 'Desconhecido')\n",
    "\n",
    "                    for group in match_stats.get('grupos', []):\n",
    "                        group_name = group.get('nome', 'Sem grupo')\n",
    "\n",
    "                        for item in group.get('itens', []):\n",
    "                            stat_name = item.get('nome', 'Sem estatística')\n",
    "                            home_value = item.get('mandante', 0)\n",
    "                            away_value = item.get('visitante', 0)\n",
    "\n",
    "                            all_data.append({\n",
    "                                'Match ID': match_id,\n",
    "                                'Home Team': home_team,\n",
    "                                'Away Team': away_team,\n",
    "                                'Period': period,\n",
    "                                'Group': group_name,\n",
    "                                'Stat Name': stat_name,\n",
    "                                'Home Value': home_value,\n",
    "                                'Away Value': away_value\n",
    "                            })\n",
    "            else:\n",
    "                print(f\"⚠️ Erro ao obter estatísticas para {home_team} x {away_team}: {response_stats.status_code}\")\n",
    "\n",
    "        # Criar um DataFrame e exportar para Excel\n",
    "        if all_data:\n",
    "            df = pd.DataFrame(all_data)\n",
    "            excel_file = 'paulista_2025_stats.xlsx'\n",
    "            df.to_excel(excel_file, index=False)\n",
    "            print(f\"\\n✅ Dados exportados com sucesso para '{excel_file}'!\")\n",
    "        else:\n",
    "            print(\"\\n❌ Nenhum dado foi coletado.\")\n",
    "\n",
    "    except Exception as e:\n",
    "        print(f\"\\n❌ Erro ao processar a resposta da API: {e}\")\n",
    "\n",
    "else:\n",
    "    print(f\"\\n❌ Erro ao obter a lista de jogos do campeonato: {response.status_code}\")\n"
   ]
  },
  {
   "cell_type": "code",
   "execution_count": null,
   "metadata": {},
   "outputs": [],
   "source": [
    "df.head()"
   ]
  },
  {
   "cell_type": "code",
   "execution_count": null,
   "metadata": {},
   "outputs": [],
   "source": [
    "url = \"http://apifutebol.footstats.com.br/3.1/campeonatos\"\n",
    "headers = {\n",
    "    \"Authorization\": \"Bearer xpto-bca\"\n",
    "}\n",
    "\n",
    "response = requests.get(url, headers=headers)\n",
    "\n",
    "if response.status_code == 200:\n",
    "    print(response.json())  # Exibir os dados da API\n",
    "else:\n",
    "    print(f\"Erro {response.status_code}: {response.text}\")"
   ]
  }
 ],
 "metadata": {
  "language_info": {
   "name": "python"
  }
 },
 "nbformat": 4,
 "nbformat_minor": 2
}
